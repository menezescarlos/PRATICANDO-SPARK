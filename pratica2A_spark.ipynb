{
  "cells": [
    {
      "cell_type": "markdown",
      "metadata": {
        "id": "4yKmgqE4ur9w"
      },
      "source": [
        "# ***Spark***"
      ]
    },
    {
      "cell_type": "code",
      "execution_count": null,
      "metadata": {
        "colab": {
          "base_uri": "https://localhost:8080/"
        },
        "id": "woCkI886wvKL",
        "outputId": "fac8b7a1-61b1-436c-83de-167b61004890"
      },
      "outputs": [
        {
          "name": "stdout",
          "output_type": "stream",
          "text": [
            "Mounted at /content/drive\n"
          ]
        }
      ],
      "source": [
        "from google.colab import drive\n",
        "drive.mount('/content/drive')"
      ]
    },
    {
      "cell_type": "markdown",
      "metadata": {
        "id": "RBA0qeqdvZ3E"
      },
      "source": [
        "# Instalação"
      ]
    },
    {
      "cell_type": "code",
      "execution_count": null,
      "metadata": {
        "colab": {
          "base_uri": "https://localhost:8080/",
          "height": 244
        },
        "id": "guxg9SxnunYN",
        "outputId": "0efc0f1e-9941-48ea-a6f4-078ad841787a"
      },
      "outputs": [
        {
          "name": "stdout",
          "output_type": "stream",
          "text": [
            "Collecting pyspark\n",
            "  Downloading pyspark-3.5.1.tar.gz (317.0 MB)\n",
            "\u001b[2K     \u001b[90m━━━━━━━━━━━━━━━━━━━━━━━━━━━━━━━━━━━━━━━━\u001b[0m \u001b[32m317.0/317.0 MB\u001b[0m \u001b[31m2.2 MB/s\u001b[0m eta \u001b[36m0:00:00\u001b[0m\n",
            "\u001b[?25h  Preparing metadata (setup.py) ... \u001b[?25l\u001b[?25hdone\n",
            "Requirement already satisfied: py4j==0.10.9.7 in /usr/local/lib/python3.10/dist-packages (from pyspark) (0.10.9.7)\n",
            "Building wheels for collected packages: pyspark\n",
            "  Building wheel for pyspark (setup.py) ... \u001b[?25l\u001b[?25hdone\n",
            "  Created wheel for pyspark: filename=pyspark-3.5.1-py2.py3-none-any.whl size=317488491 sha256=22914712626d30c9120b5dba4b5eb60382f0b02e6955f5bcd8a9767a095a6ed3\n",
            "  Stored in directory: /root/.cache/pip/wheels/80/1d/60/2c256ed38dddce2fdd93be545214a63e02fbd8d74fb0b7f3a6\n",
            "Successfully built pyspark\n",
            "Installing collected packages: pyspark\n",
            "Successfully installed pyspark-3.5.1\n"
          ]
        },
        {
          "data": {
            "application/vnd.google.colaboratory.intrinsic+json": {
              "type": "string"
            },
            "text/plain": [
              "'/usr/local/lib/python3.10/dist-packages/pyspark'"
            ]
          },
          "execution_count": 2,
          "metadata": {},
          "output_type": "execute_result"
        }
      ],
      "source": [
        "!pip install -q findspark\n",
        "!pip install pyspark\n",
        "#!pip install py4j\n",
        "\n",
        "import findspark\n",
        "findspark.init()\n",
        "findspark.find()"
      ]
    },
    {
      "cell_type": "code",
      "execution_count": null,
      "metadata": {
        "colab": {
          "base_uri": "https://localhost:8080/",
          "height": 219
        },
        "id": "T_B-en96Ju70",
        "outputId": "4547254b-2a6d-4fa9-8fca-97d9e7b17c7d"
      },
      "outputs": [
        {
          "data": {
            "text/html": [
              "\n",
              "            <div>\n",
              "                <p><b>SparkSession - in-memory</b></p>\n",
              "                \n",
              "        <div>\n",
              "            <p><b>SparkContext</b></p>\n",
              "\n",
              "            <p><a href=\"http://92a698e8f580:4040\">Spark UI</a></p>\n",
              "\n",
              "            <dl>\n",
              "              <dt>Version</dt>\n",
              "                <dd><code>v3.5.1</code></dd>\n",
              "              <dt>Master</dt>\n",
              "                <dd><code>local[*]</code></dd>\n",
              "              <dt>AppName</dt>\n",
              "                <dd><code>Primeiro Exemplo Spark</code></dd>\n",
              "            </dl>\n",
              "        </div>\n",
              "        \n",
              "            </div>\n",
              "        "
            ],
            "text/plain": [
              "<pyspark.sql.session.SparkSession at 0x7ea65a22b130>"
            ]
          },
          "execution_count": 3,
          "metadata": {},
          "output_type": "execute_result"
        }
      ],
      "source": [
        "import pyspark\n",
        "\n",
        "from pyspark.sql import DataFrame, SparkSession\n",
        "from typing import List\n",
        "import pyspark.sql.types as T\n",
        "import pyspark.sql.functions as F\n",
        "\n",
        "spark= SparkSession \\\n",
        "       .builder \\\n",
        "       .appName(\"Primeiro Exemplo Spark\") \\\n",
        "       .getOrCreate()\n",
        "\n",
        "spark"
      ]
    },
    {
      "cell_type": "code",
      "execution_count": null,
      "metadata": {
        "id": "PIyRRCuAFzFr"
      },
      "outputs": [],
      "source": [
        "!cp \"/content/drive/MyDrive/CloudComputing_DSA29/Aula1/ENEM_2022.zip\" ."
      ]
    },
    {
      "cell_type": "code",
      "execution_count": null,
      "metadata": {
        "colab": {
          "base_uri": "https://localhost:8080/"
        },
        "id": "l3Kuku5JF6aX",
        "outputId": "45ce7619-d2a4-42a3-a970-6f3835307bcd"
      },
      "outputs": [
        {
          "name": "stdout",
          "output_type": "stream",
          "text": [
            "Archive:  ENEM_2022.zip\n",
            "  inflating: ENEM_AC.csv             \n",
            "  inflating: ENEM_AL.csv             \n",
            "  inflating: ENEM_AM.csv             \n",
            "  inflating: ENEM_AP.csv             \n",
            "  inflating: ENEM_BA.csv             \n",
            "  inflating: ENEM_CE.csv             \n",
            "  inflating: ENEM_DF.csv             \n",
            "  inflating: ENEM_ES.csv             \n",
            "  inflating: ENEM_GO.csv             \n",
            "  inflating: ENEM_MA.csv             \n",
            "  inflating: ENEM_MG.csv             \n",
            "  inflating: ENEM_MS.csv             \n",
            "  inflating: ENEM_MT.csv             \n",
            "  inflating: ENEM_PA.csv             \n",
            "  inflating: ENEM_PB.csv             \n",
            "  inflating: ENEM_PE.csv             \n",
            "  inflating: ENEM_PI.csv             \n",
            "  inflating: ENEM_PR.csv             \n",
            "  inflating: ENEM_RJ.csv             \n",
            "  inflating: ENEM_RN.csv             \n",
            "  inflating: ENEM_RO.csv             \n",
            "  inflating: ENEM_RR.csv             \n",
            "  inflating: ENEM_RS.csv             \n",
            "  inflating: ENEM_SC.csv             \n",
            "  inflating: ENEM_SE.csv             \n",
            "  inflating: ENEM_SP.csv             \n",
            "  inflating: ENEM_TO.csv             \n"
          ]
        }
      ],
      "source": [
        "!unzip ENEM_2022.zip"
      ]
    },
    {
      "cell_type": "code",
      "execution_count": null,
      "metadata": {
        "colab": {
          "base_uri": "https://localhost:8080/"
        },
        "id": "IIGcDLhAO-XW",
        "outputId": "13f0e49e-dfa9-498e-ad60-5c998ffac082"
      },
      "outputs": [
        {
          "name": "stdout",
          "output_type": "stream",
          "text": [
            "total 1.8G\n",
            "drwxr-xr-x 1 root root 4.0K May 27 23:14 .\n",
            "drwxr-xr-x 1 root root 4.0K May 27 23:06 ..\n",
            "drwxr-xr-x 4 root root 4.0K May 23 13:24 .config\n",
            "drwx------ 6 root root 4.0K May 27 23:09 drive\n",
            "-rw------- 1 root root 324M May 27 23:14 ENEM_2022.zip\n",
            "-rw-r--r-- 1 root root 9.4M Apr 23 16:58 ENEM_AC.csv\n",
            "-rw-r--r-- 1 root root  28M Apr 23 16:58 ENEM_AL.csv\n",
            "-rw-r--r-- 1 root root  30M Apr 23 16:58 ENEM_AM.csv\n",
            "-rw-r--r-- 1 root root 9.3M Apr 23 16:58 ENEM_AP.csv\n",
            "-rw-r--r-- 1 root root 116M Apr 23 16:58 ENEM_BA.csv\n",
            "-rw-r--r-- 1 root root 100M Apr 23 16:58 ENEM_CE.csv\n",
            "-rw-r--r-- 1 root root  29M Apr 23 16:58 ENEM_DF.csv\n",
            "-rw-r--r-- 1 root root  28M Apr 23 16:58 ENEM_ES.csv\n",
            "-rw-r--r-- 1 root root  60M Apr 23 16:58 ENEM_GO.csv\n",
            "-rw-r--r-- 1 root root  58M Apr 23 16:58 ENEM_MA.csv\n",
            "-rw-r--r-- 1 root root 136M Apr 23 16:58 ENEM_MG.csv\n",
            "-rw-r--r-- 1 root root  19M Apr 23 16:58 ENEM_MS.csv\n",
            "-rw-r--r-- 1 root root  25M Apr 23 16:58 ENEM_MT.csv\n",
            "-rw-r--r-- 1 root root  86M Apr 23 16:58 ENEM_PA.csv\n",
            "-rw-r--r-- 1 root root  46M Apr 23 16:58 ENEM_PB.csv\n",
            "-rw-r--r-- 1 root root  83M Apr 23 16:58 ENEM_PE.csv\n",
            "-rw-r--r-- 1 root root  38M Apr 23 16:58 ENEM_PI.csv\n",
            "-rw-r--r-- 1 root root  65M Apr 23 16:58 ENEM_PR.csv\n",
            "-rw-r--r-- 1 root root 109M Apr 23 16:58 ENEM_RJ.csv\n",
            "-rw-r--r-- 1 root root  39M Apr 23 16:58 ENEM_RN.csv\n",
            "-rw-r--r-- 1 root root  14M Apr 23 16:58 ENEM_RO.csv\n",
            "-rw-r--r-- 1 root root 3.4M Apr 23 16:58 ENEM_RR.csv\n",
            "-rw-r--r-- 1 root root  66M Apr 23 16:58 ENEM_RS.csv\n",
            "-rw-r--r-- 1 root root  37M Apr 23 16:58 ENEM_SC.csv\n",
            "-rw-r--r-- 1 root root  27M Apr 23 16:58 ENEM_SE.csv\n",
            "-rw-r--r-- 1 root root 239M Apr 23 16:58 ENEM_SP.csv\n",
            "-rw-r--r-- 1 root root  13M Apr 23 16:58 ENEM_TO.csv\n",
            "drwxr-xr-x 1 root root 4.0K May 23 13:25 sample_data\n"
          ]
        }
      ],
      "source": [
        "!ls -lha"
      ]
    },
    {
      "cell_type": "code",
      "execution_count": null,
      "metadata": {
        "colab": {
          "base_uri": "https://localhost:8080/"
        },
        "id": "LufXbeZpNWfl",
        "outputId": "f4de803f-ea10-40cf-d53f-aa6a49aaacc5"
      },
      "outputs": [
        {
          "name": "stdout",
          "output_type": "stream",
          "text": [
            "210055349063,2022,2,F,1,3,2,2,0,2,1,0,,,,,,,,1702208,Araguatins,17,TO,0,0,0,0,,,,,,,,,,,,,0,,,,,,,,,,,,D,C,C,B,5,C,A,B,C,A,B,B,B,A,A,A,A,A,B,A,A,D,A,A,B\n",
            "210057294165,2022,3,F,0,3,1,2,0,2,1,0,,,,,,,,1715101,Novo Acordo,17,TO,1,1,1,1,1086,1055,1065,1076,480.7,441.8,475.9,381.2,BCEDCAEBDDECDEBEDEEBCCADACBACECDABEDBBDEDAAEC,ACDCEDADEBADAABDCDBBAAECAECBABDBAECBBDDBCDBAE,EECACBEEADCDACCAECCEDADECDBDEABAADBDDBEDEAECB,BEDCAADEBEBDCDACEBBDCBEABDBBBBCBBADBADABECEBD,1,EACDDEBEACCCDABCEECBBCCAEBEDABEADBADDCBDDAAEB,DEABEEDAEBAAECBECBABCDDAAADBCEDAEACDBBCDCBECA,DCBDEEDCAAEAAACABBDBEBACCBEEECCBBDCAAADCCABEDBDECE,DBAAACEBEDAECCBECDEECBDCABECBEABDDCCDBDXCBAAC,1,120,120,100,120,80,540,E,E,B,B,6,A,A,B,C,A,B,B,B,A,A,A,A,A,B,A,A,B,A,A,A\n",
            "210056206219,2022,3,F,1,3,1,1,1,1,,0,,,,,,,,1720804,S�tio Novo do Tocantins,17,TO,1,1,1,1,1087,1056,1066,1078,397,441.9,438.4,378.2,ACDBADBADABCCDCCBEBEBEABDECBDADBECDABCEDBAADA,CACDCDCDDCCDDDBDDABABCACDADCBCBBAAEAADBBDAACA,ABCEDDDDDDAEEAEAADBEECCAADECABAADEEEDDADECCEB,BADADDCECDEAECADBDECCCEAAECECEBCAAAEBEBECBCEC,1,DDECDBEACCAEBEAEBBCCDDCBDDACBEACEABCEABEDADBA,ECBABCDDAAECBCBECAEBAEACDEEDABBCDDEABCEDAAADB,DECDBDCEAADDBCABEDCAAADCCECEEBABEEAAABDBCCCABEECBB,BEEDAEABDDCEBDBAAAAACXCBCCCBCCDBDEECBDCABEECD,1,80,120,100,120,100,520,B,C,A,A,5,B,A,B,C,B,B,B,B,A,A,A,A,A,B,A,A,B,B,A,A\n",
            "210057706458,2022,5,M,1,1,1,1,3,1,,0,,,,,,,,1707405,Esperantina,17,TO,1,1,1,1,1088,1058,1067,1077,456.8,461.8,504,410.6,CADBCCAEECAEDEBEEBAADCACADEABBDDDABCACDCAECAB,CECBABAEBCBBDCACBDEBABACAAEACDACDEDCEDBABAADC,DADEDBEBCDEEBADBABBEEDAAAAEAEDEADACBAEBECBCAD,DCBCEAACECBCACDECEBBCDAEBBDCADCDBADEADACBEABD,0,DDCBBCCDDAADBAABEDABCEEAEBAEBECBDDEBEACCEACCD,CEDAAADBAECBCDDADEABCBECAEEDAEBABBCDECBABEACD,CDBEDACDEACAABDBDBDDCABEEECEABECABEEAAACBBEBADCCCC,CCCCBXCBABECBEABDDDBDECDBDCAACEECCEBDBAAAEDAE,1,120,180,160,120,140,720,B,D,A,A,4,B,D,C,D,B,B,B,B,B,A,B,A,A,B,A,A,C,A,A,B\n",
            "210055011768,2022,13,F,2,1,1,1,16,1,,0,,,,,,,,1721000,Palmas,17,TO,0,0,0,0,,,,,,,,,,,,,1,,,,,,,,,,,,E,D,D,B,3,L,B,C,C,B,B,B,B,B,A,B,A,B,C,A,B,C,A,C,B\n",
            "210057281058,2022,3,F,1,1,1,2,0,2,1,0,1702109,Aragua�na,17,TO,2,1,1,1702109,Aragua�na,17,TO,1,1,1,1,1086,1055,1065,1076,434.1,486,473.3,498,BBECBBBEBBDAECDBBBEDBCEDABBBADCBAADCEEBEDDDCE,CAABBAAAABAADBBDDAADAEACDAAABDDADAECBDDDEADCE,ECAAAEABAEAADDABACDAAEAEBEAEAEAAEDCCDAADCABEA,BADCBCAEECACDBEBCBEBEDABADEBBDEEABBDACEDEABBB,1,EACDDEBEACCCDABCEECBBCCAEBEDABEADBADDCBDDAAEB,DEABEEDAEBAAECBECBABCDDAAADBCEDAEACDBBCDCBECA,DCBDEEDCAAEAAACABBDBEBACCBEEECCBBDCAAADCCABEDBDECE,DBAAACEBEDAECCBECDEECBDCABECBEABDDCCDBDXCBAAC,1,120,120,120,120,0,480,E,E,A,B,6,C,A,C,D,B,B,B,B,B,B,B,A,A,B,A,A,E,A,B,B\n",
            "210054849737,2022,1,M,1,1,1,3,0,1,,1,,,,,,,,1715754,Palmeir�polis,17,TO,1,1,1,1,1086,1055,1065,1076,496.8,638.9,628.9,764.3,DACDBEAACEBDAADBADEBACBEEDEBEDAABDDBBADECADDD,DEABBEDBAEAAECBEBAEBADDAAADBAEDAECCCEBDBBBACE,DCBDEEBCADABBDBCBBCBBEEECCBBDDAAADACCCADBDEDE,CCAAACEBECADCCBBDBAEBBDABADCBEADDCCADECDCCAAD,0,EACDDEBEACCCDABCEECBBCCAEBEDABEADBADDCBDDAAEB,DEABEEDAEBAAECBECBABCDDAAADBCEDAEACDBBCDCBECA,DCBDEEDCAAEAAACABBDBEBACCBEEECCBBDCAAADCCABEDBDECE,DBAAACEBEDAECCBECDEECBDCABECBEABDDCCDBDXCBAAC,1,160,200,160,200,180,900,G,G,C,D,6,F,A,C,D,B,B,B,B,B,A,B,A,A,B,A,A,E,A,D,B\n",
            "210055426893,2022,2,F,1,3,1,2,0,2,1,0,1721000,Palmas,17,TO,2,1,1,1721000,Palmas,17,TO,1,1,1,1,1087,1056,1066,1078,429.6,534.5,584.4,538.1,ACDDCCDCACDCBDBEBBCECBECDEDDDDBBBACBABDCDBBBB,EBDCBAADBEEBBDBDCEDCBBADEEBABEBDDAEAACECDAEBC,CCEABDEBCADACDCAEDACECCBBEDECCAABDBCCCABCEDBA,BEECACABAABDECDCACDADEBCADBBECBCBABDBEDDBDDBD,1,DDECDBEACCAEBEAEBBCCDDCBDDACBEACEABCEABEDADBA,ECBABCDDAAECBCBECAEBAEACDEEDABBCDDEABCEDAAADB,DECDBDCEAADDBCABEDCAAADCCECEEBABEEAAABDBCCCABEECBB,BEEDAEABDDCEBDBAAAAACXCBCCCBCCDBDEECBDCABEECD,1,120,120,120,120,160,640,F,F,B,B,5,E,A,B,C,B,A,B,A,B,A,A,A,A,B,A,A,A,A,B,B\n",
            "210057691713,2022,5,F,1,3,2,2,0,2,1,0,,,,,,,,1702109,Aragua�na,17,TO,0,0,0,0,,,,,,,,,,,,,1,,,,,,,,,,,,E,E,A,F,4,B,A,B,C,A,B,B,A,B,A,A,A,A,B,A,A,C,A,A,B\n",
            "210056870762,2022,3,M,1,3,1,2,0,2,1,0,1721000,Palmas,17,TO,2,1,1,1721000,Palmas,17,TO,0,0,0,0,,,,,,,,,,,,,0,,,,,,,,,,,,E,B,C,C,5,C,A,B,D,A,B,B,A,B,A,A,A,A,B,A,A,D,A,C,B\n"
          ]
        }
      ],
      "source": [
        "!head ENEM_TO.csv"
      ]
    },
    {
      "cell_type": "code",
      "execution_count": null,
      "metadata": {
        "colab": {
          "base_uri": "https://localhost:8080/"
        },
        "id": "uGr83QuTNon0",
        "outputId": "8755286b-fb48-45e4-ae88-45df4365a11a"
      },
      "outputs": [
        {
          "name": "stdout",
          "output_type": "stream",
          "text": [
            "     22601 ENEM_AC.csv\n",
            "     63945 ENEM_AL.csv\n",
            "     80986 ENEM_AM.csv\n",
            "     22674 ENEM_AP.csv\n",
            "    265166 ENEM_BA.csv\n",
            "    226377 ENEM_CE.csv\n",
            "     65401 ENEM_DF.csv\n",
            "     63700 ENEM_ES.csv\n",
            "    141622 ENEM_GO.csv\n",
            "    132916 ENEM_MA.csv\n",
            "    309781 ENEM_MG.csv\n",
            "     44683 ENEM_MS.csv\n",
            "     59381 ENEM_MT.csv\n",
            "    202621 ENEM_PA.csv\n",
            "    103238 ENEM_PB.csv\n",
            "    189595 ENEM_PE.csv\n",
            "     84400 ENEM_PI.csv\n",
            "    150396 ENEM_PR.csv\n",
            "    250890 ENEM_RJ.csv\n",
            "     88049 ENEM_RN.csv\n",
            "     31969 ENEM_RO.csv\n",
            "      8434 ENEM_RR.csv\n",
            "    152295 ENEM_RS.csv\n",
            "     82791 ENEM_SC.csv\n",
            "     58312 ENEM_SE.csv\n",
            "    544442 ENEM_SP.csv\n",
            "     29440 ENEM_TO.csv\n",
            "   3476105 total\n"
          ]
        }
      ],
      "source": [
        "!wc -l ENEM_*.csv"
      ]
    },
    {
      "cell_type": "code",
      "execution_count": null,
      "metadata": {
        "id": "JUpEzTu0fJ5q"
      },
      "outputs": [],
      "source": [
        "df = spark.read.option('header','false').option('delimiter',',').csv(\"ENEM_*.csv\")"
      ]
    },
    {
      "cell_type": "code",
      "execution_count": null,
      "metadata": {
        "colab": {
          "base_uri": "https://localhost:8080/"
        },
        "id": "FPuDvlDwHAlj",
        "outputId": "05bfc06e-d0cb-4978-ad1e-1c8e976288aa"
      },
      "outputs": [
        {
          "name": "stdout",
          "output_type": "stream",
          "text": [
            "+------------+----+---+---+---+---+---+---+---+---+----+----+-------+--------------+----+----+----+----+----+-------+--------------------+----+----+----+----+----+----+----+----+----+----+-----+-----+-----+-----+--------------------+--------------------+--------------------+--------------------+----+--------------------+--------------------+--------------------+--------------------+----+----+----+----+----+----+----+----+----+----+----+----+----+----+----+----+----+----+----+----+----+----+----+----+----+----+----+----+----+----+----+----+\n",
            "|         _c0| _c1|_c2|_c3|_c4|_c5|_c6|_c7|_c8|_c9|_c10|_c11|   _c12|          _c13|_c14|_c15|_c16|_c17|_c18|   _c19|                _c20|_c21|_c22|_c23|_c24|_c25|_c26|_c27|_c28|_c29|_c30| _c31| _c32| _c33| _c34|                _c35|                _c36|                _c37|                _c38|_c39|                _c40|                _c41|                _c42|                _c43|_c44|_c45|_c46|_c47|_c48|_c49|_c50|_c51|_c52|_c53|_c54|_c55|_c56|_c57|_c58|_c59|_c60|_c61|_c62|_c63|_c64|_c65|_c66|_c67|_c68|_c69|_c70|_c71|_c72|_c73|_c74|_c75|\n",
            "+------------+----+---+---+---+---+---+---+---+---+----+----+-------+--------------+----+----+----+----+----+-------+--------------------+----+----+----+----+----+----+----+----+----+----+-----+-----+-----+-----+--------------------+--------------------+--------------------+--------------------+----+--------------------+--------------------+--------------------+--------------------+----+----+----+----+----+----+----+----+----+----+----+----+----+----+----+----+----+----+----+----+----+----+----+----+----+----+----+----+----+----+----+----+\n",
            "|210057494920|2022|  2|  F|  1|  1|  1|  2|  0|  2|   1|   0|   NULL|          NULL|NULL|NULL|NULL|NULL|NULL|3168705|             Tim�teo|  31|  MG|   1|   1|   1|   1|1088|1058|1067|1077|403.9|504.1|525.2|666.6|ABDDCEEDEACABCBDA...|EECBAEEADCCCEBBBA...|CBCEBBDAEDCDBECEA...|CEBDBDEECBBCBEAAD...|   0|DDCBBCCDDAADBAABE...|CEDAAADBAECBCDDAD...|CDBEDACDEACAABDBD...|CCCCBXCBABECBEABD...|   1| 160| 180| 160| 160| 200| 860|   E|   E|   C|   D|   6|   H|   A|   B|   C|   B|   B|   B|   B|   A|   B|   A|   A|   A|   C|   A|   A|   E|   A|   B|   B|\n",
            "|210055709562|2022|  1|  F|  1|  3|  1|  3|  0|  1|NULL|   1|   NULL|          NULL|NULL|NULL|NULL|NULL|NULL|3107307|            Bocai�va|  31|  MG|   1|   1|   1|   1|1085|1057|1068|1075|424.1|498.7|416.6|494.2|DAABBCBAACEBCDAEE...|CBDCDCECACBCABEDC...|ABCEBDBAABCBEAECB...|CCCBABDEACACBACEC...|   1|ADBADABEABCEEEACC...|CBECABBCDEACDCEDA...|BDECDAADCECCCDCCE...|ECDABEBDCEECDBDCC...|   1| 120| 120| 120| 120|  80| 560|   E|   D|   C|   B|   3|   E|   A|   B|   C|   B|   A|   B|   A|   A|   A|   A|   A|   A|   B|   A|   A|   C|   A|   A|   B|\n",
            "|210056835888|2022|  4|  F|  1|  2|  1|  1|  2|  1|NULL|   0|   NULL|          NULL|NULL|NULL|NULL|NULL|NULL|3101904|         Alpin�polis|  31|  MG|   1|   1|   1|   1|1088|1058|1067|1077|465.5|368.3|358.2|420.9|ACBDACCBBAEEDBCEC...|ABDCEBECACDCAEBAC...|DEBADADECCAADDEDC...|EAECCDCACABDBBBCA...|   1|DDCBBCCDDAADBAABE...|CEDAAADBAECBCDDAD...|CDBEDACDEACAABDBD...|CCCCBXCBABECBEABD...|   1| 120|  40|  40|  80|  40| 320|   B|   C|   A|   B|   2|   B|   A|   B|   C|   A|   A|   B|   A|   B|   A|   A|   A|   A|   B|   A|   B|   C|   B|   B|   B|\n",
            "|210057601604|2022|  2|  F|  1|  1|  1|  3|  0|  1|NULL|   1|   NULL|          NULL|NULL|NULL|NULL|NULL|NULL|3143302|       Montes Claros|  31|  MG|   1|   1|   1|   1|1085|1057|1068|1075|368.5|  486|461.2|391.4|EBDDBEDAEBBBBABBC...|DECDEDDEDBDCBCCDB...|AAEDBBCADABCADDAA...|DBBECBECAADBEEBEC...|   1|ADBADABEABCEEEACC...|CBECABBCDEACDCEDA...|BDECDAADCECCCDCCE...|ECDABEBDCEECDBDCC...|   1| 120| 180| 120| 140| 120| 680|   E|   E|   B|   B|   4|   D|   A|   C|   D|   B|   A|   B|   B|   A|   A|   B|   A|   B|   B|   B|   B|   E|   A|   B|   B|\n",
            "|210055654518|2022|  9|  F|  1|  1|  1|  1|  0|  1|NULL|   0|   NULL|          NULL|NULL|NULL|NULL|NULL|NULL|3162500|    S�o Jo�o del Rei|  31|  MG|   1|   1|   1|   1|1088|1058|1067|1077|400.4|  426|479.9|547.3|ABAEACCBEEDCCEEAA...|CADDAEEEDAAEECABE...|CBBDACAADDABDAEEC...|BAACDDCBEDABBDABD...|   0|DDCBBCCDDAADBAABE...|CEDAAADBAECBCDDAD...|CDBEDACDEACAABDBD...|CCCCBXCBABECBEABD...|   1| 120| 120| 100| 140|  60| 540|   C|   C|   A|   B|   3|   B|   A|   B|   C|   A|   A|   B|   A|   B|   A|   A|   A|   A|   B|   A|   A|   B|   A|   B|   B|\n",
            "|210055770326|2022|  3|  F|  1|  2|  1|  2|  0|  2|   1|   0|   NULL|          NULL|NULL|NULL|NULL|NULL|NULL|3106200|      Belo Horizonte|  31|  MG|   1|   1|   1|   1|1088|1058|1067|1077|442.6|506.2|557.8|555.5|CDBBCABDEECBABEDC...|CBDEAEEDCDBAADDBC...|DBBEDCEAADEEADACA...|CDCBBDDEACBEBBCDD...|   0|DDCBBCCDDAADBAABE...|CEDAAADBAECBCDDAD...|CDBEDACDEACAABDBD...|CCCCBXCBABECBEABD...|   1| 120| 200| 120| 140| 160| 740|   C|   C|   C|   B|   4|   C|   A|   B|   C|   A|   A|   B|   A|   A|   A|   B|   A|   A|   C|   A|   A|   D|   B|   A|   B|\n",
            "|210055684137|2022|  2|  F|  1|  3|  1|  2|  0|  2|   1|   0|3157005|       Salinas|  31|  MG|   1|   2|   1|3157005|             Salinas|  31|  MG|   1|   1|   1|   1|1086|1055|1065|1076|476.2|555.4|443.9|  665|DBEACDBABABCEACBB...|BDABEADBEAADEABEB...|CADBEACAAEADBCBBA...|ABBAADBEEEACBCDCD...|   1|EACDDEBEACCCDABCE...|DEABEEDAEBAAECBEC...|DCBDEEDCAAEAAACAB...|DBAAACEBEDAECCBEC...|   1| 140| 180| 120| 160| 200| 800|   B|   G|   B|   D|   4|   H|   B|   C|   D|   C|   B|   B|   A|   B|   A|   B|   A|   A|   B|   A|   A|   D|   A|   B|   B|\n",
            "|210057843871|2022|  6|  F|  1|  3|  1|  1|  3|  1|NULL|   0|   NULL|          NULL|NULL|NULL|NULL|NULL|NULL|3144706|            Nova Era|  31|  MG|   0|   0|   0|   0|NULL|NULL|NULL|NULL| NULL| NULL| NULL| NULL|                NULL|                NULL|                NULL|                NULL|   1|                NULL|                NULL|                NULL|                NULL|NULL|NULL|NULL|NULL|NULL|NULL|NULL|   E|   B|   B|   B|   5|   B|   A|   B|   C|   A|   C|   B|   A|   A|   A|   A|   A|   A|   B|   B|   A|   E|   A|   A|   B|\n",
            "|210057024501|2022| 17|  M|  3|  0|  1|  1| 16|  1|NULL|   0|   NULL|          NULL|NULL|NULL|NULL|NULL|NULL|3106200|      Belo Horizonte|  31|  MG|   0|   0|   0|   0|NULL|NULL|NULL|NULL| NULL| NULL| NULL| NULL|                NULL|                NULL|                NULL|                NULL|   0|                NULL|                NULL|                NULL|                NULL|NULL|NULL|NULL|NULL|NULL|NULL|NULL|   D|   C|   E|   B|   3|   J|   A|   C|   D|   B|   A|   B|   A|   B|   A|   B|   A|   B|   B|   A|   B|   D|   B|   D|   B|\n",
            "|210054541539|2022|  4|  F|  1|  3|  1|  1|  1|  1|NULL|   0|   NULL|          NULL|NULL|NULL|NULL|NULL|NULL|3127701|Governador Valadares|  31|  MG|   0|   0|   0|   0|NULL|NULL|NULL|NULL| NULL| NULL| NULL| NULL|                NULL|                NULL|                NULL|                NULL|   1|                NULL|                NULL|                NULL|                NULL|NULL|NULL|NULL|NULL|NULL|NULL|NULL|   B|   E|   C|   B|   7|   G|   A|   C|   D|   B|   A|   B|   B|   B|   A|   A|   A|   A|   B|   A|   B|   E|   A|   A|   B|\n",
            "|210058023885|2022|  2|  F|  1|  3|  1|  2|  0|  2|   1|   0|3136702|  Juiz de Fora|  31|  MG|   2|   1|   1|3136702|        Juiz de Fora|  31|  MG|   0|   0|   0|   0|NULL|NULL|NULL|NULL| NULL| NULL| NULL| NULL|                NULL|                NULL|                NULL|                NULL|   0|                NULL|                NULL|                NULL|                NULL|NULL|NULL|NULL|NULL|NULL|NULL|NULL|   E|   E|   C|   B|   4|   B|   A|   B|   B|   A|   A|   B|   A|   A|   A|   A|   A|   A|   B|   A|   A|   C|   A|   A|   B|\n",
            "|210055212491|2022| 11|  F|  1|  1|  1|  1|  7|  1|NULL|   0|   NULL|          NULL|NULL|NULL|NULL|NULL|NULL|3136702|        Juiz de Fora|  31|  MG|   1|   1|   1|   1|1086|1055|1065|1076|644.5|660.3|594.8|  726|ABDDAECDADCCDACCA...|DEACEEDEDDAAEBBED...|DCBDEEDDADABBCBCA...|DBBAAADBEEAAACABD...|   0|EACDDEBEACCCDABCE...|DEABEEDAEBAAECBEC...|DCBDEEDCAAEAAACAB...|DBAAACEBEDAECCBEC...|   1| 140| 200| 160| 200| 180| 880|   D|   E|   B|   B|   3|   C|   A|   B|   C|   A|   A|   B|   B|   B|   A|   A|   A|   A|   B|   A|   A|   C|   A|   B|   B|\n",
            "|210056933570|2022|  2|  F|  1|  0|  1|  2|  0|  3|   1|   0|3138807|           Luz|  31|  MG|   4|   1|   1|3138807|                 Luz|  31|  MG|   1|   1|   1|   1|1088|1058|1067|1077|406.2|410.7|557.5|470.8|ADCBDDBACABAECCEB...|AADBBDBCCEABABCDC...|CDBEBCAACDBEBBDAA...|AEDBCADBBAACBDEEA...|   0|DDCBBCCDDAADBAABE...|CEDAAADBAECBCDDAD...|CDBEDACDEACAABDBD...|CCCCBXCBABECBEABD...|   1| 120| 120| 120| 140| 160| 660|   E|   E|   D|   D|   4|   I|   D|   D|   D|   B|   A|   B|   B|   B|   B|   B|   A|   A|   C|   A|   A|   D|   A|   C|   B|\n",
            "|210056605845|2022|  3|  M|  1|  3|  1|  2|  0|  2|   1|   0|3157203| Santa B�rbara|  31|  MG|   2|   1|   1|3157203|       Santa B�rbara|  31|  MG|   1|   1|   1|   1|1085|1057|1068|1075|488.6|569.4|570.1|585.1|EACCBADCACBBDDDCE...|ABDCEEECDACCBDBDA...|BDEABCCABBCCBECBA...|DEBCDADABDDBAABDB...|   0|ADBADABEABCEEEACC...|CBECABBCDEACDCEDA...|BDECDAADCECCCDCCE...|ECDABEBDCEECDBDCC...|   1| 140| 160| 120| 140| 100| 660|   C|   C|   C|   B|   3|   B|   A|   C|   C|   B|   B|   B|   B|   B|   A|   A|   A|   A|   C|   A|   B|   D|   A|   B|   B|\n",
            "|210055722324|2022|  4|  M|  1|  0|  1|  1|  1|  1|NULL|   0|   NULL|          NULL|NULL|NULL|NULL|NULL|NULL|3148103|          Patroc�nio|  31|  MG|   1|   1|   1|   1|1085|1057|1068|1075|642.7|684.8|499.1|500.5|BBCABCBABBCEAEBDE...|BBECABBADECADCEDA...|BDEDDCBBDECBAACBB...|EBBAAAAECDBCDBDBB...|   0|ADBADABEABCEEEACC...|CBECABBCDEACDCEDA...|BDECDAADCECCCDCCE...|ECDABEBDCEECDBDCC...|   1| 160| 200| 160| 180| 180| 880|   F|   F|   E|   D|   5|   Q|   B|   E|   E|   E|   A|   C|   C|   B|   B|   B|   A|   B|   C|   B|   B|   E|   A|   E|   B|\n",
            "|210055544551|2022|  2|  F|  1|  2|  1|  2|  0|  2|   1|   0|   NULL|          NULL|NULL|NULL|NULL|NULL|NULL|3103405|             Ara�ua�|  31|  MG|   1|   1|   1|   1|1086|1055|1065|1076|480.8|  401|328.3|422.2|EAEAADDDBBACCEEAD...|EEBBEAABBDAEABABD...|ACBCAEBEECBCCECAC...|CCCDACEEECEC.ACBE...|   0|EACDDEBEACCCDABCE...|DEABEEDAEBAAECBEC...|DCBDEEDCAAEAAACAB...|DBAAACEBEDAECCBEC...|   1| 120| 120|  80| 120|   0| 440|   E|   F|   C|   B|   2|   B|   A|   B|   C|   A|   A|   B|   A|   A|   A|   B|   A|   A|   B|   A|   A|   C|   A|   B|   B|\n",
            "|210056922460|2022|  5|  F|  2|  3|  1|  1|  3|  1|NULL|   0|   NULL|          NULL|NULL|NULL|NULL|NULL|NULL|3143302|       Montes Claros|  31|  MG|   0|   0|   0|   0|NULL|NULL|NULL|NULL| NULL| NULL| NULL| NULL|                NULL|                NULL|                NULL|                NULL|   1|                NULL|                NULL|                NULL|                NULL|NULL|NULL|NULL|NULL|NULL|NULL|NULL|   B|   B|   A|   A|   2|   B|   A|   B|   B|   A|   A|   B|   B|   A|   A|   A|   A|   A|   A|   A|   A|   C|   A|   A|   B|\n",
            "|210057822606|2022|  3|  M|  1|  1|  1|  2|  0|  2|   1|   0|3136207|Jo�o Monlevade|  31|  MG|   2|   1|   1|3136207|      Jo�o Monlevade|  31|  MG|   1|   1|   1|   1|1088|1058|1067|1077|457.9|592.2|632.3|565.6|DDEDCDCEEEDBCBEBA...|CBCAAADBEEBBCDDDA...|CDBEDCAAABBEBEDCA...|CBCDBECAECCCBDAEE...|   0|DDCBBCCDDAADBAABE...|CEDAAADBAECBCDDAD...|CDBEDACDEACAABDBD...|CCCCBXCBABECBEABD...|   1| 140| 200| 140| 160| 180| 820|   E|   G|   C|   D|   3|   D|   B|   C|   D|   B|   A|   B|   B|   B|   A|   B|   B|   B|   C|   A|   A|   B|   A|   B|   B|\n",
            "|210056253541|2022|  2|  F|  1|  3|  1|  3|  0|  1|NULL|   1|   NULL|          NULL|NULL|NULL|NULL|NULL|NULL|3152501|        Pouso Alegre|  31|  MG|   1|   1|   1|   1|1087|1056|1066|1078|419.2|442.5|480.1|443.7|CBBDCBEDABDBBBDDC...|DCBBBDCEBCDBDCADE...|ACEDBDCBCADADECEA...|BBDCADBECABDEBDCD...|   1|DDECDBEACCAEBEAEB...|ECBABCDDAAECBCBEC...|DECDBDCEAADDBCABE...|BEEDAEABDDCEBDBAA...|   1| 120| 120| 120| 120| 120| 600|   E|   C|   C|   F|   7|   D|   A|   C|   D|   C|   A|   B|   B|   B|   A|   B|   A|   B|   C|   A|   B|   E|   A|   B|   B|\n",
            "|210055930288|2022| 10|  F|  1|  1|  1|  1|  8|  1|NULL|   0|   NULL|          NULL|NULL|NULL|NULL|NULL|NULL|3143302|       Montes Claros|  31|  MG|   1|   1|   1|   1|1085|1057|1068|1075|462.9|652.6|595.6|630.7|ABECBCECACCBDEDBE...|CABCAEBEDCACDDEDA...|BDEDDCCEDCCDABCBB...|AADCEADBDECCCBECD...|   0|ADBADABEABCEEEACC...|CBECABBCDEACDCEDA...|BDECDAADCECCCDCCE...|ECDABEBDCEECDBDCC...|   1| 120| 180| 120| 120| 120| 660|   B|   E|   D|   D|   2|   D|   A|   C|   C|   A|   A|   B|   B|   B|   A|   A|   A|   A|   C|   A|   A|   C|   A|   B|   B|\n",
            "+------------+----+---+---+---+---+---+---+---+---+----+----+-------+--------------+----+----+----+----+----+-------+--------------------+----+----+----+----+----+----+----+----+----+----+-----+-----+-----+-----+--------------------+--------------------+--------------------+--------------------+----+--------------------+--------------------+--------------------+--------------------+----+----+----+----+----+----+----+----+----+----+----+----+----+----+----+----+----+----+----+----+----+----+----+----+----+----+----+----+----+----+----+----+\n",
            "only showing top 20 rows\n",
            "\n"
          ]
        }
      ],
      "source": [
        "df.show()"
      ]
    },
    {
      "cell_type": "code",
      "execution_count": null,
      "metadata": {
        "id": "c3CZWN0fGnu4"
      },
      "outputs": [],
      "source": [
        "df = df.toDF(\"NU_INSCRICAO\",\"NU_ANO\",\"TP_FAIXA_ETARIA\",\"TP_SEXO\",\"TP_ESTADO_CIVIL\",\"TP_COR_RACA\",\"TP_NACIONALIDADE\",\"TP_ST_CONCLUSAO\",\"TP_ANO_CONCLUIU\",\"TP_ESCOLA\",\"TP_ENSINO\",\"IN_TREINEIRO\",\"CO_MUNICIPIO_ESC\",\"NO_MUNICIPIO_ESC\",\"CO_UF_ESC\",\"SG_UF_ESC\",\"TP_DEPENDENCIA_ADM_ESC\",\"TP_LOCALIZACAO_ESC\",\"TP_SIT_FUNC_ESC\",\"CO_MUNICIPIO_PROVA\",\"NO_MUNICIPIO_PROVA\",\"CO_UF_PROVA\",\"SG_UF_PROVA\",\"TP_PRESENCA_CN\",\"TP_PRESENCA_CH\",\"TP_PRESENCA_LC\",\"TP_PRESENCA_MT\",\"CO_PROVA_CN\",\"CO_PROVA_CH\",\"CO_PROVA_LC\",\"CO_PROVA_MT\",\"NU_NOTA_CN\",\"NU_NOTA_CH\",\"NU_NOTA_LC\",\"NU_NOTA_MT\",\"TX_RESPOSTAS_CN\",\"TX_RESPOSTAS_CH\",\"TX_RESPOSTAS_LC\",\"TX_RESPOSTAS_MT\",\"TP_LINGUA\",\"TX_GABARITO_CN\",\"TX_GABARITO_CH\",\"TX_GABARITO_LC\",\"TX_GABARITO_MT\",\"TP_STATUS_REDACAO\",\"NU_NOTA_COMP1\",\"NU_NOTA_COMP2\",\"NU_NOTA_COMP3\",\"NU_NOTA_COMP4\",\"NU_NOTA_COMP5\",\"NU_NOTA_REDACAO\",\"Q001\",\"Q002\",\"Q003\",\"Q004\",\"Q005\",\"Q006\",\"Q007\",\"Q008\",\"Q009\",\"Q010\",\"Q011\",\"Q012\",\"Q013\",\"Q014\",\"Q015\",\"Q016\",\"Q017\",\"Q018\",\"Q019\",\"Q020\",\"Q021\",\"Q022\",\"Q023\",\"Q024\",\"Q025\")"
      ]
    },
    {
      "cell_type": "code",
      "execution_count": null,
      "metadata": {
        "colab": {
          "base_uri": "https://localhost:8080/"
        },
        "id": "V2y6nNMFGr-P",
        "outputId": "7c37c84f-0193-41e9-9072-1106985acaa0"
      },
      "outputs": [
        {
          "name": "stdout",
          "output_type": "stream",
          "text": [
            "+------------+------+---------------+-------+---------------+-----------+----------------+---------------+---------------+---------+---------+------------+----------------+----------------+---------+---------+----------------------+------------------+---------------+------------------+------------------+-----------+-----------+--------------+--------------+--------------+--------------+-----------+-----------+-----------+-----------+----------+----------+----------+----------+---------------------------------------------+---------------------------------------------+---------------------------------------------+---------------------------------------------+---------+---------------------------------------------+---------------------------------------------+--------------------------------------------------+---------------------------------------------+-----------------+-------------+-------------+-------------+-------------+-------------+---------------+----+----+----+----+----+----+----+----+----+----+----+----+----+----+----+----+----+----+----+----+----+----+----+----+----+\n",
            "|NU_INSCRICAO|NU_ANO|TP_FAIXA_ETARIA|TP_SEXO|TP_ESTADO_CIVIL|TP_COR_RACA|TP_NACIONALIDADE|TP_ST_CONCLUSAO|TP_ANO_CONCLUIU|TP_ESCOLA|TP_ENSINO|IN_TREINEIRO|CO_MUNICIPIO_ESC|NO_MUNICIPIO_ESC|CO_UF_ESC|SG_UF_ESC|TP_DEPENDENCIA_ADM_ESC|TP_LOCALIZACAO_ESC|TP_SIT_FUNC_ESC|CO_MUNICIPIO_PROVA|NO_MUNICIPIO_PROVA|CO_UF_PROVA|SG_UF_PROVA|TP_PRESENCA_CN|TP_PRESENCA_CH|TP_PRESENCA_LC|TP_PRESENCA_MT|CO_PROVA_CN|CO_PROVA_CH|CO_PROVA_LC|CO_PROVA_MT|NU_NOTA_CN|NU_NOTA_CH|NU_NOTA_LC|NU_NOTA_MT|TX_RESPOSTAS_CN                              |TX_RESPOSTAS_CH                              |TX_RESPOSTAS_LC                              |TX_RESPOSTAS_MT                              |TP_LINGUA|TX_GABARITO_CN                               |TX_GABARITO_CH                               |TX_GABARITO_LC                                    |TX_GABARITO_MT                               |TP_STATUS_REDACAO|NU_NOTA_COMP1|NU_NOTA_COMP2|NU_NOTA_COMP3|NU_NOTA_COMP4|NU_NOTA_COMP5|NU_NOTA_REDACAO|Q001|Q002|Q003|Q004|Q005|Q006|Q007|Q008|Q009|Q010|Q011|Q012|Q013|Q014|Q015|Q016|Q017|Q018|Q019|Q020|Q021|Q022|Q023|Q024|Q025|\n",
            "+------------+------+---------------+-------+---------------+-----------+----------------+---------------+---------------+---------+---------+------------+----------------+----------------+---------+---------+----------------------+------------------+---------------+------------------+------------------+-----------+-----------+--------------+--------------+--------------+--------------+-----------+-----------+-----------+-----------+----------+----------+----------+----------+---------------------------------------------+---------------------------------------------+---------------------------------------------+---------------------------------------------+---------+---------------------------------------------+---------------------------------------------+--------------------------------------------------+---------------------------------------------+-----------------+-------------+-------------+-------------+-------------+-------------+---------------+----+----+----+----+----+----+----+----+----+----+----+----+----+----+----+----+----+----+----+----+----+----+----+----+----+\n",
            "|210057494920|2022  |2              |F      |1              |1          |1               |2              |0              |2        |1        |0           |NULL            |NULL            |NULL     |NULL     |NULL                  |NULL              |NULL           |3168705           |Tim�teo           |31         |MG         |1             |1             |1             |1             |1088       |1058       |1067       |1077       |403.9     |504.1     |525.2     |666.6     |ABDDCEEDEACABCBDAECBBEACBCEADBEBCBCBDDAEECEEA|EECBAEEADCCCEBBBAAAEDBDEABDDABCAEEDDEABABCEAB|CBCEBBDAEDCDBECEABADECEACDEDBCEBDABBBBDEDBCDC|CEBDBDEECBBCBEAADCCBBDDDBACCEDEBCCABDEDBABEAC|0        |DDCBBCCDDAADBAABEDABCEEAEBAEBECBDDEBEACCEACCD|CEDAAADBAECBCDDADEABCBECAEEDAEBABBCDECBABEACD|CDBEDACDEACAABDBDBDDCABEEECEABECABEEAAACBBEBADCCCC|CCCCBXCBABECBEABDDDBDECDBDCAACEECCEBDBAAAEDAE|1                |160          |180          |160          |160          |200          |860            |E   |E   |C   |D   |6   |H   |A   |B   |C   |B   |B   |B   |B   |A   |B   |A   |A   |A   |C   |A   |A   |E   |A   |B   |B   |\n",
            "|210055709562|2022  |1              |F      |1              |3          |1               |3              |0              |1        |NULL     |1           |NULL            |NULL            |NULL     |NULL     |NULL                  |NULL              |NULL           |3107307           |Bocai�va          |31         |MG         |1             |1             |1             |1             |1085       |1057       |1068       |1075       |424.1     |498.7     |416.6     |494.2     |DAABBCBAACEBCDAEECBCDBDCDDCCDBDBAABCBBDEDCBCD|CBDCDCECACBCABEDCACEEBBEABBAABBAEBDBAEDEACAAC|ABCEBDBAABCBEAECBCCAEBEABEEAECAAEECABEAACABCD|CCCBABDEACACBACECEBBBDDBBDDDBCCBCBEEBDCDCBABE|1        |ADBADABEABCEEEACCBDDADDCBBCCAEBAEBEBEACCCDDDE|CBECABBCDEACDCEDAAADBCDDAECBABAECBEBAEEDADEAB|BDECDAADCECCCDCCEBACBBAAAEECABABEECEBEEDCADBDBDBAA|ECDABEBDCEECDBDCCCCBCXCBAACDBAAACEBABDDEDAEBE|1                |120          |120          |120          |120          |80           |560            |E   |D   |C   |B   |3   |E   |A   |B   |C   |B   |A   |B   |A   |A   |A   |A   |A   |A   |B   |A   |A   |C   |A   |A   |B   |\n",
            "|210056835888|2022  |4              |F      |1              |2          |1               |1              |2              |1        |NULL     |0           |NULL            |NULL            |NULL     |NULL     |NULL                  |NULL              |NULL           |3101904           |Alpin�polis       |31         |MG         |1             |1             |1             |1             |1088       |1058       |1067       |1077       |465.5     |368.3     |358.2     |420.9     |ACBDACCBBAEEDBCECAEBEDDAEEBBBBEEDCCBEBDAEAABA|ABDCEBECACDCAEBACCDBECDAA.CBBDAAACDB.EABADECD|DEBADADECCAADDEDCDDCACBCDACBCDADCDCDBAECBACDA|EAECCDCACABDBBBCACAEBCADAEEACCACBBEEACCABCCBB|1        |DDCBBCCDDAADBAABEDABCEEAEBAEBECBDDEBEACCEACCD|CEDAAADBAECBCDDADEABCBECAEEDAEBABBCDECBABEACD|CDBEDACDEACAABDBDBDDCABEEECEABECABEEAAACBBEBADCCCC|CCCCBXCBABECBEABDDDBDECDBDCAACEECCEBDBAAAEDAE|1                |120          |40           |40           |80           |40           |320            |B   |C   |A   |B   |2   |B   |A   |B   |C   |A   |A   |B   |A   |B   |A   |A   |A   |A   |B   |A   |B   |C   |B   |B   |B   |\n",
            "|210057601604|2022  |2              |F      |1              |1          |1               |3              |0              |1        |NULL     |1           |NULL            |NULL            |NULL     |NULL     |NULL                  |NULL              |NULL           |3143302           |Montes Claros     |31         |MG         |1             |1             |1             |1             |1085       |1057       |1068       |1075       |368.5     |486       |461.2     |391.4     |EBDDBEDAEBBBBABBCAAACEECDCEEDADDACCCCCDEACDCD|DECDEDDEDBDCBCCDBABADCEEBEADCBABCBBCDEABACBAC|AAEDBBCADABCADDAACAAEAEAADDBBDAAEAEDADADDDEEA|DBBECBECAADBEEBECCBDBEEBBEEBCACDDBEEDADECEDAE|1        |ADBADABEABCEEEACCBDDADDCBBCCAEBAEBEBEACCCDDDE|CBECABBCDEACDCEDAAADBCDDAECBABAECBEBAEEDADEAB|BDECDAADCECCCDCCEBACBBAAAEECABABEECEBEEDCADBDBDBAA|ECDABEBDCEECDBDCCCCBCXCBAACDBAAACEBABDDEDAEBE|1                |120          |180          |120          |140          |120          |680            |E   |E   |B   |B   |4   |D   |A   |C   |D   |B   |A   |B   |B   |A   |A   |B   |A   |B   |B   |B   |B   |E   |A   |B   |B   |\n",
            "|210055654518|2022  |9              |F      |1              |1          |1               |1              |0              |1        |NULL     |0           |NULL            |NULL            |NULL     |NULL     |NULL                  |NULL              |NULL           |3162500           |S�o Jo�o del Rei  |31         |MG         |1             |1             |1             |1             |1088       |1058       |1067       |1077       |400.4     |426       |479.9     |547.3     |ABAEACCBEEDCCEEAACEABDEAEEEADDADAEBCEBAEAAEEE|CADDAEEEDAAEECABECAAEEAEAEEAEEACEDEAEEEADDACE|CBBDACAADDABDAEECAACEAEADCAABEECEAACAAEDDBEDE|BAACDDCBEDABBDABDBEACCAEDACABDDAEDCEACCAABCCA|0        |DDCBBCCDDAADBAABEDABCEEAEBAEBECBDDEBEACCEACCD|CEDAAADBAECBCDDADEABCBECAEEDAEBABBCDECBABEACD|CDBEDACDEACAABDBDBDDCABEEECEABECABEEAAACBBEBADCCCC|CCCCBXCBABECBEABDDDBDECDBDCAACEECCEBDBAAAEDAE|1                |120          |120          |100          |140          |60           |540            |C   |C   |A   |B   |3   |B   |A   |B   |C   |A   |A   |B   |A   |B   |A   |A   |A   |A   |B   |A   |A   |B   |A   |B   |B   |\n",
            "+------------+------+---------------+-------+---------------+-----------+----------------+---------------+---------------+---------+---------+------------+----------------+----------------+---------+---------+----------------------+------------------+---------------+------------------+------------------+-----------+-----------+--------------+--------------+--------------+--------------+-----------+-----------+-----------+-----------+----------+----------+----------+----------+---------------------------------------------+---------------------------------------------+---------------------------------------------+---------------------------------------------+---------+---------------------------------------------+---------------------------------------------+--------------------------------------------------+---------------------------------------------+-----------------+-------------+-------------+-------------+-------------+-------------+---------------+----+----+----+----+----+----+----+----+----+----+----+----+----+----+----+----+----+----+----+----+----+----+----+----+----+\n",
            "only showing top 5 rows\n",
            "\n"
          ]
        }
      ],
      "source": [
        "df.show(5, False)"
      ]
    },
    {
      "cell_type": "code",
      "execution_count": null,
      "metadata": {
        "colab": {
          "base_uri": "https://localhost:8080/"
        },
        "id": "E_7GrstpHXNN",
        "outputId": "35994576-e9b9-477a-9263-d29ca3781a59"
      },
      "outputs": [
        {
          "data": {
            "text/plain": [
              "3476105"
            ]
          },
          "execution_count": 13,
          "metadata": {},
          "output_type": "execute_result"
        }
      ],
      "source": [
        "df.count()"
      ]
    },
    {
      "cell_type": "code",
      "execution_count": null,
      "metadata": {
        "colab": {
          "base_uri": "https://localhost:8080/"
        },
        "id": "mZkke5X6Halb",
        "outputId": "9fccf723-aaa2-4c83-ad2e-563ea3b34d18"
      },
      "outputs": [
        {
          "name": "stdout",
          "output_type": "stream",
          "text": [
            "+-------+-------+\n",
            "|TP_SEXO|qtd    |\n",
            "+-------+-------+\n",
            "|F      |2120519|\n",
            "|M      |1355586|\n",
            "+-------+-------+\n",
            "\n"
          ]
        }
      ],
      "source": [
        "import pyspark.sql.functions as f\n",
        "result = df.groupBy('TP_SEXO').agg(f.count('*').alias('qtd'))\n",
        "\n",
        "result.show(n=10, truncate=False)"
      ]
    },
    {
      "cell_type": "code",
      "execution_count": null,
      "metadata": {
        "colab": {
          "base_uri": "https://localhost:8080/",
          "height": 597
        },
        "id": "Xdslpgx5IDwF",
        "outputId": "7cd4d7a2-3a60-45da-e658-8b8a36a0159c"
      },
      "outputs": [
        {
          "name": "stderr",
          "output_type": "stream",
          "text": [
            "/usr/local/lib/python3.10/dist-packages/pyspark/pandas/__init__.py:50: UserWarning: 'PYARROW_IGNORE_TIMEZONE' environment variable was not set. It is required to set this environment variable to '1' in both driver and executor sides if you use pyarrow>=2.0.0. pandas-on-Spark will set it for you but it does not work if there is a Spark context already launched.\n",
            "  warnings.warn(\n"
          ]
        },
        {
          "data": {
            "text/html": [
              "<html>\n",
              "<head><meta charset=\"utf-8\" /></head>\n",
              "<body>\n",
              "    <div>            <script src=\"https://cdnjs.cloudflare.com/ajax/libs/mathjax/2.7.5/MathJax.js?config=TeX-AMS-MML_SVG\"></script><script type=\"text/javascript\">if (window.MathJax && window.MathJax.Hub && window.MathJax.Hub.Config) {window.MathJax.Hub.Config({SVG: {font: \"STIX-Web\"}});}</script>                <script type=\"text/javascript\">window.PlotlyConfig = {MathJaxConfig: 'local'};</script>\n",
              "        <script charset=\"utf-8\" src=\"https://cdn.plot.ly/plotly-2.24.1.min.js\"></script>                <div id=\"baf3f283-1be6-46e8-9db2-db5d1dc345aa\" class=\"plotly-graph-div\" style=\"height:525px; width:100%;\"></div>            <script type=\"text/javascript\">                                    window.PLOTLYENV=window.PLOTLYENV || {};                                    if (document.getElementById(\"baf3f283-1be6-46e8-9db2-db5d1dc345aa\")) {                    Plotly.newPlot(                        \"baf3f283-1be6-46e8-9db2-db5d1dc345aa\",                        [{\"domain\":{\"x\":[0.0,1.0],\"y\":[0.0,1.0]},\"hovertemplate\":\"TP_SEXO=%{label}\\u003cbr\\u003eqtd=%{value}\\u003cextra\\u003e\\u003c\\u002fextra\\u003e\",\"labels\":[\"F\",\"M\"],\"legendgroup\":\"\",\"name\":\"\",\"showlegend\":true,\"values\":[2120519,1355586],\"type\":\"pie\"}],                        {\"template\":{\"data\":{\"histogram2dcontour\":[{\"type\":\"histogram2dcontour\",\"colorbar\":{\"outlinewidth\":0,\"ticks\":\"\"},\"colorscale\":[[0.0,\"#0d0887\"],[0.1111111111111111,\"#46039f\"],[0.2222222222222222,\"#7201a8\"],[0.3333333333333333,\"#9c179e\"],[0.4444444444444444,\"#bd3786\"],[0.5555555555555556,\"#d8576b\"],[0.6666666666666666,\"#ed7953\"],[0.7777777777777778,\"#fb9f3a\"],[0.8888888888888888,\"#fdca26\"],[1.0,\"#f0f921\"]]}],\"choropleth\":[{\"type\":\"choropleth\",\"colorbar\":{\"outlinewidth\":0,\"ticks\":\"\"}}],\"histogram2d\":[{\"type\":\"histogram2d\",\"colorbar\":{\"outlinewidth\":0,\"ticks\":\"\"},\"colorscale\":[[0.0,\"#0d0887\"],[0.1111111111111111,\"#46039f\"],[0.2222222222222222,\"#7201a8\"],[0.3333333333333333,\"#9c179e\"],[0.4444444444444444,\"#bd3786\"],[0.5555555555555556,\"#d8576b\"],[0.6666666666666666,\"#ed7953\"],[0.7777777777777778,\"#fb9f3a\"],[0.8888888888888888,\"#fdca26\"],[1.0,\"#f0f921\"]]}],\"heatmap\":[{\"type\":\"heatmap\",\"colorbar\":{\"outlinewidth\":0,\"ticks\":\"\"},\"colorscale\":[[0.0,\"#0d0887\"],[0.1111111111111111,\"#46039f\"],[0.2222222222222222,\"#7201a8\"],[0.3333333333333333,\"#9c179e\"],[0.4444444444444444,\"#bd3786\"],[0.5555555555555556,\"#d8576b\"],[0.6666666666666666,\"#ed7953\"],[0.7777777777777778,\"#fb9f3a\"],[0.8888888888888888,\"#fdca26\"],[1.0,\"#f0f921\"]]}],\"heatmapgl\":[{\"type\":\"heatmapgl\",\"colorbar\":{\"outlinewidth\":0,\"ticks\":\"\"},\"colorscale\":[[0.0,\"#0d0887\"],[0.1111111111111111,\"#46039f\"],[0.2222222222222222,\"#7201a8\"],[0.3333333333333333,\"#9c179e\"],[0.4444444444444444,\"#bd3786\"],[0.5555555555555556,\"#d8576b\"],[0.6666666666666666,\"#ed7953\"],[0.7777777777777778,\"#fb9f3a\"],[0.8888888888888888,\"#fdca26\"],[1.0,\"#f0f921\"]]}],\"contourcarpet\":[{\"type\":\"contourcarpet\",\"colorbar\":{\"outlinewidth\":0,\"ticks\":\"\"}}],\"contour\":[{\"type\":\"contour\",\"colorbar\":{\"outlinewidth\":0,\"ticks\":\"\"},\"colorscale\":[[0.0,\"#0d0887\"],[0.1111111111111111,\"#46039f\"],[0.2222222222222222,\"#7201a8\"],[0.3333333333333333,\"#9c179e\"],[0.4444444444444444,\"#bd3786\"],[0.5555555555555556,\"#d8576b\"],[0.6666666666666666,\"#ed7953\"],[0.7777777777777778,\"#fb9f3a\"],[0.8888888888888888,\"#fdca26\"],[1.0,\"#f0f921\"]]}],\"surface\":[{\"type\":\"surface\",\"colorbar\":{\"outlinewidth\":0,\"ticks\":\"\"},\"colorscale\":[[0.0,\"#0d0887\"],[0.1111111111111111,\"#46039f\"],[0.2222222222222222,\"#7201a8\"],[0.3333333333333333,\"#9c179e\"],[0.4444444444444444,\"#bd3786\"],[0.5555555555555556,\"#d8576b\"],[0.6666666666666666,\"#ed7953\"],[0.7777777777777778,\"#fb9f3a\"],[0.8888888888888888,\"#fdca26\"],[1.0,\"#f0f921\"]]}],\"mesh3d\":[{\"type\":\"mesh3d\",\"colorbar\":{\"outlinewidth\":0,\"ticks\":\"\"}}],\"scatter\":[{\"fillpattern\":{\"fillmode\":\"overlay\",\"size\":10,\"solidity\":0.2},\"type\":\"scatter\"}],\"parcoords\":[{\"type\":\"parcoords\",\"line\":{\"colorbar\":{\"outlinewidth\":0,\"ticks\":\"\"}}}],\"scatterpolargl\":[{\"type\":\"scatterpolargl\",\"marker\":{\"colorbar\":{\"outlinewidth\":0,\"ticks\":\"\"}}}],\"bar\":[{\"error_x\":{\"color\":\"#2a3f5f\"},\"error_y\":{\"color\":\"#2a3f5f\"},\"marker\":{\"line\":{\"color\":\"#E5ECF6\",\"width\":0.5},\"pattern\":{\"fillmode\":\"overlay\",\"size\":10,\"solidity\":0.2}},\"type\":\"bar\"}],\"scattergeo\":[{\"type\":\"scattergeo\",\"marker\":{\"colorbar\":{\"outlinewidth\":0,\"ticks\":\"\"}}}],\"scatterpolar\":[{\"type\":\"scatterpolar\",\"marker\":{\"colorbar\":{\"outlinewidth\":0,\"ticks\":\"\"}}}],\"histogram\":[{\"marker\":{\"pattern\":{\"fillmode\":\"overlay\",\"size\":10,\"solidity\":0.2}},\"type\":\"histogram\"}],\"scattergl\":[{\"type\":\"scattergl\",\"marker\":{\"colorbar\":{\"outlinewidth\":0,\"ticks\":\"\"}}}],\"scatter3d\":[{\"type\":\"scatter3d\",\"line\":{\"colorbar\":{\"outlinewidth\":0,\"ticks\":\"\"}},\"marker\":{\"colorbar\":{\"outlinewidth\":0,\"ticks\":\"\"}}}],\"scattermapbox\":[{\"type\":\"scattermapbox\",\"marker\":{\"colorbar\":{\"outlinewidth\":0,\"ticks\":\"\"}}}],\"scatterternary\":[{\"type\":\"scatterternary\",\"marker\":{\"colorbar\":{\"outlinewidth\":0,\"ticks\":\"\"}}}],\"scattercarpet\":[{\"type\":\"scattercarpet\",\"marker\":{\"colorbar\":{\"outlinewidth\":0,\"ticks\":\"\"}}}],\"carpet\":[{\"aaxis\":{\"endlinecolor\":\"#2a3f5f\",\"gridcolor\":\"white\",\"linecolor\":\"white\",\"minorgridcolor\":\"white\",\"startlinecolor\":\"#2a3f5f\"},\"baxis\":{\"endlinecolor\":\"#2a3f5f\",\"gridcolor\":\"white\",\"linecolor\":\"white\",\"minorgridcolor\":\"white\",\"startlinecolor\":\"#2a3f5f\"},\"type\":\"carpet\"}],\"table\":[{\"cells\":{\"fill\":{\"color\":\"#EBF0F8\"},\"line\":{\"color\":\"white\"}},\"header\":{\"fill\":{\"color\":\"#C8D4E3\"},\"line\":{\"color\":\"white\"}},\"type\":\"table\"}],\"barpolar\":[{\"marker\":{\"line\":{\"color\":\"#E5ECF6\",\"width\":0.5},\"pattern\":{\"fillmode\":\"overlay\",\"size\":10,\"solidity\":0.2}},\"type\":\"barpolar\"}],\"pie\":[{\"automargin\":true,\"type\":\"pie\"}]},\"layout\":{\"autotypenumbers\":\"strict\",\"colorway\":[\"#636efa\",\"#EF553B\",\"#00cc96\",\"#ab63fa\",\"#FFA15A\",\"#19d3f3\",\"#FF6692\",\"#B6E880\",\"#FF97FF\",\"#FECB52\"],\"font\":{\"color\":\"#2a3f5f\"},\"hovermode\":\"closest\",\"hoverlabel\":{\"align\":\"left\"},\"paper_bgcolor\":\"white\",\"plot_bgcolor\":\"#E5ECF6\",\"polar\":{\"bgcolor\":\"#E5ECF6\",\"angularaxis\":{\"gridcolor\":\"white\",\"linecolor\":\"white\",\"ticks\":\"\"},\"radialaxis\":{\"gridcolor\":\"white\",\"linecolor\":\"white\",\"ticks\":\"\"}},\"ternary\":{\"bgcolor\":\"#E5ECF6\",\"aaxis\":{\"gridcolor\":\"white\",\"linecolor\":\"white\",\"ticks\":\"\"},\"baxis\":{\"gridcolor\":\"white\",\"linecolor\":\"white\",\"ticks\":\"\"},\"caxis\":{\"gridcolor\":\"white\",\"linecolor\":\"white\",\"ticks\":\"\"}},\"coloraxis\":{\"colorbar\":{\"outlinewidth\":0,\"ticks\":\"\"}},\"colorscale\":{\"sequential\":[[0.0,\"#0d0887\"],[0.1111111111111111,\"#46039f\"],[0.2222222222222222,\"#7201a8\"],[0.3333333333333333,\"#9c179e\"],[0.4444444444444444,\"#bd3786\"],[0.5555555555555556,\"#d8576b\"],[0.6666666666666666,\"#ed7953\"],[0.7777777777777778,\"#fb9f3a\"],[0.8888888888888888,\"#fdca26\"],[1.0,\"#f0f921\"]],\"sequentialminus\":[[0.0,\"#0d0887\"],[0.1111111111111111,\"#46039f\"],[0.2222222222222222,\"#7201a8\"],[0.3333333333333333,\"#9c179e\"],[0.4444444444444444,\"#bd3786\"],[0.5555555555555556,\"#d8576b\"],[0.6666666666666666,\"#ed7953\"],[0.7777777777777778,\"#fb9f3a\"],[0.8888888888888888,\"#fdca26\"],[1.0,\"#f0f921\"]],\"diverging\":[[0,\"#8e0152\"],[0.1,\"#c51b7d\"],[0.2,\"#de77ae\"],[0.3,\"#f1b6da\"],[0.4,\"#fde0ef\"],[0.5,\"#f7f7f7\"],[0.6,\"#e6f5d0\"],[0.7,\"#b8e186\"],[0.8,\"#7fbc41\"],[0.9,\"#4d9221\"],[1,\"#276419\"]]},\"xaxis\":{\"gridcolor\":\"white\",\"linecolor\":\"white\",\"ticks\":\"\",\"title\":{\"standoff\":15},\"zerolinecolor\":\"white\",\"automargin\":true,\"zerolinewidth\":2},\"yaxis\":{\"gridcolor\":\"white\",\"linecolor\":\"white\",\"ticks\":\"\",\"title\":{\"standoff\":15},\"zerolinecolor\":\"white\",\"automargin\":true,\"zerolinewidth\":2},\"scene\":{\"xaxis\":{\"backgroundcolor\":\"#E5ECF6\",\"gridcolor\":\"white\",\"linecolor\":\"white\",\"showbackground\":true,\"ticks\":\"\",\"zerolinecolor\":\"white\",\"gridwidth\":2},\"yaxis\":{\"backgroundcolor\":\"#E5ECF6\",\"gridcolor\":\"white\",\"linecolor\":\"white\",\"showbackground\":true,\"ticks\":\"\",\"zerolinecolor\":\"white\",\"gridwidth\":2},\"zaxis\":{\"backgroundcolor\":\"#E5ECF6\",\"gridcolor\":\"white\",\"linecolor\":\"white\",\"showbackground\":true,\"ticks\":\"\",\"zerolinecolor\":\"white\",\"gridwidth\":2}},\"shapedefaults\":{\"line\":{\"color\":\"#2a3f5f\"}},\"annotationdefaults\":{\"arrowcolor\":\"#2a3f5f\",\"arrowhead\":0,\"arrowwidth\":1},\"geo\":{\"bgcolor\":\"white\",\"landcolor\":\"#E5ECF6\",\"subunitcolor\":\"white\",\"showland\":true,\"showlakes\":true,\"lakecolor\":\"white\"},\"title\":{\"x\":0.05},\"mapbox\":{\"style\":\"light\"}}},\"legend\":{\"tracegroupgap\":0},\"margin\":{\"t\":60}},                        {\"responsive\": true}                    ).then(function(){\n",
              "                            \n",
              "var gd = document.getElementById('baf3f283-1be6-46e8-9db2-db5d1dc345aa');\n",
              "var x = new MutationObserver(function (mutations, observer) {{\n",
              "        var display = window.getComputedStyle(gd).display;\n",
              "        if (!display || display === 'none') {{\n",
              "            console.log([gd, 'removed!']);\n",
              "            Plotly.purge(gd);\n",
              "            observer.disconnect();\n",
              "        }}\n",
              "}});\n",
              "\n",
              "// Listen for the removal of the full notebook cells\n",
              "var notebookContainer = gd.closest('#notebook-container');\n",
              "if (notebookContainer) {{\n",
              "    x.observe(notebookContainer, {childList: true});\n",
              "}}\n",
              "\n",
              "// Listen for the clearing of the current output cell\n",
              "var outputEl = gd.closest('.output');\n",
              "if (outputEl) {{\n",
              "    x.observe(outputEl, {childList: true});\n",
              "}}\n",
              "\n",
              "                        })                };                            </script>        </div>\n",
              "</body>\n",
              "</html>"
            ]
          },
          "metadata": {},
          "output_type": "display_data"
        }
      ],
      "source": [
        "import pyspark.pandas as ps\n",
        "\n",
        "# converte pyspark.sql.dataframe.DataFrame para pyspark.pandas.frame.DataFrame\n",
        "temp_df = ps.DataFrame( result ).set_index('TP_SEXO')\n",
        "\n",
        "g = temp_df.qtd.plot.pie();\n",
        "g.show()"
      ]
    },
    {
      "cell_type": "code",
      "execution_count": null,
      "metadata": {
        "colab": {
          "base_uri": "https://localhost:8080/"
        },
        "id": "kxDUVncAkwaR",
        "outputId": "9db37920-dc7e-4e1c-c56a-54a2c37614bf"
      },
      "outputs": [
        {
          "name": "stdout",
          "output_type": "stream",
          "text": [
            "+---------------+-------+---------------+-----------+----------------+\n",
            "|TP_FAIXA_ETARIA|TP_SEXO|TP_ESTADO_CIVIL|TP_COR_RACA|TP_NACIONALIDADE|\n",
            "+---------------+-------+---------------+-----------+----------------+\n",
            "|1              |M      |1              |2          |1               |\n",
            "|1              |M      |1              |1          |1               |\n",
            "|1              |F      |1              |1          |1               |\n",
            "|1              |F      |1              |1          |1               |\n",
            "|1              |F      |1              |1          |1               |\n",
            "|1              |F      |1              |1          |1               |\n",
            "|1              |M      |1              |1          |1               |\n",
            "|1              |F      |0              |3          |1               |\n",
            "|1              |F      |1              |3          |1               |\n",
            "|1              |F      |1              |1          |1               |\n",
            "|1              |F      |1              |1          |1               |\n",
            "|1              |M      |1              |3          |1               |\n",
            "|1              |F      |1              |1          |1               |\n",
            "|1              |F      |1              |1          |1               |\n",
            "|1              |F      |1              |3          |1               |\n",
            "|1              |F      |1              |1          |1               |\n",
            "|1              |F      |1              |3          |1               |\n",
            "|1              |F      |1              |1          |1               |\n",
            "|1              |F      |1              |1          |1               |\n",
            "|1              |F      |1              |3          |1               |\n",
            "+---------------+-------+---------------+-----------+----------------+\n",
            "only showing top 20 rows\n",
            "\n"
          ]
        }
      ],
      "source": [
        "df.where(\"SG_UF_PROVA == 'ES'\").select(\"TP_FAIXA_ETARIA\",\"TP_SEXO\",\"TP_ESTADO_CIVIL\",\"TP_COR_RACA\",\"TP_NACIONALIDADE\").orderBy(\"TP_FAIXA_ETARIA\").show(truncate=False)"
      ]
    },
    {
      "cell_type": "code",
      "execution_count": null,
      "metadata": {
        "colab": {
          "base_uri": "https://localhost:8080/"
        },
        "id": "ed8d_eIfIafM",
        "outputId": "e177dd0d-7fcf-424f-e17b-712128c0a133"
      },
      "outputs": [
        {
          "data": {
            "text/plain": [
              "63700"
            ]
          },
          "execution_count": 17,
          "metadata": {},
          "output_type": "execute_result"
        }
      ],
      "source": [
        "df.where(\"SG_UF_PROVA == 'ES'\").select(\"TP_FAIXA_ETARIA\",\"TP_SEXO\",\"TP_ESTADO_CIVIL\",\"TP_COR_RACA\",\"TP_NACIONALIDADE\").orderBy(\"TP_FAIXA_ETARIA\").count()"
      ]
    },
    {
      "cell_type": "markdown",
      "metadata": {
        "id": "1GfTAV-8ITHR"
      },
      "source": [
        "##SQL"
      ]
    },
    {
      "cell_type": "code",
      "execution_count": null,
      "metadata": {
        "id": "6pkb5BptISK9"
      },
      "outputs": [],
      "source": [
        "df.createOrReplaceTempView(\"enem22\")"
      ]
    },
    {
      "cell_type": "code",
      "execution_count": null,
      "metadata": {
        "colab": {
          "base_uri": "https://localhost:8080/"
        },
        "id": "j0e13ZRyIYvR",
        "outputId": "fdc91a7e-54aa-4c41-a02b-efd60303ec85"
      },
      "outputs": [
        {
          "name": "stdout",
          "output_type": "stream",
          "text": [
            "+---------------+-------+---------------+-----------+----------------+\n",
            "|TP_FAIXA_ETARIA|TP_SEXO|TP_ESTADO_CIVIL|TP_COR_RACA|TP_NACIONALIDADE|\n",
            "+---------------+-------+---------------+-----------+----------------+\n",
            "|1              |M      |1              |2          |1               |\n",
            "|1              |M      |1              |1          |1               |\n",
            "|1              |F      |1              |1          |1               |\n",
            "|1              |F      |1              |1          |1               |\n",
            "|1              |F      |1              |1          |1               |\n",
            "|1              |F      |1              |1          |1               |\n",
            "|1              |M      |1              |1          |1               |\n",
            "|1              |F      |0              |3          |1               |\n",
            "|1              |F      |1              |3          |1               |\n",
            "|1              |F      |1              |1          |1               |\n",
            "|1              |F      |1              |1          |1               |\n",
            "|1              |M      |1              |3          |1               |\n",
            "|1              |F      |1              |1          |1               |\n",
            "|1              |F      |1              |1          |1               |\n",
            "|1              |F      |1              |3          |1               |\n",
            "|1              |F      |1              |1          |1               |\n",
            "|1              |F      |1              |3          |1               |\n",
            "|1              |F      |1              |1          |1               |\n",
            "|1              |F      |1              |1          |1               |\n",
            "|1              |F      |1              |3          |1               |\n",
            "+---------------+-------+---------------+-----------+----------------+\n",
            "only showing top 20 rows\n",
            "\n"
          ]
        }
      ],
      "source": [
        "result = spark.sql(\"SELECT TP_FAIXA_ETARIA, TP_SEXO, TP_ESTADO_CIVIL, TP_COR_RACA, TP_NACIONALIDADE from enem22 where SG_UF_PROVA = 'ES' order by TP_FAIXA_ETARIA \")\n",
        "\n",
        "result.show(truncate=False)"
      ]
    },
    {
      "cell_type": "code",
      "execution_count": null,
      "metadata": {
        "colab": {
          "base_uri": "https://localhost:8080/"
        },
        "id": "WwTpKQoEI_-O",
        "outputId": "d3e2280b-74c6-4fcb-eefd-4f83c417f0c5"
      },
      "outputs": [
        {
          "data": {
            "text/plain": [
              "63700"
            ]
          },
          "execution_count": 20,
          "metadata": {},
          "output_type": "execute_result"
        }
      ],
      "source": [
        "result.count()"
      ]
    }
  ],
  "metadata": {
    "colab": {
      "provenance": []
    },
    "kernelspec": {
      "display_name": "Python 3",
      "name": "python3"
    },
    "language_info": {
      "name": "python"
    }
  },
  "nbformat": 4,
  "nbformat_minor": 0
}
